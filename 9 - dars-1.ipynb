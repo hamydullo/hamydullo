{
 "cells": [
  {
   "cell_type": "markdown",
   "id": "245dc9ee",
   "metadata": {},
   "source": [
    "# Encoding"
   ]
  },
  {
   "cell_type": "code",
   "execution_count": 1,
   "id": "9fec26d8",
   "metadata": {},
   "outputs": [],
   "source": [
    "import pandas as pd"
   ]
  },
  {
   "cell_type": "code",
   "execution_count": 4,
   "id": "a4e7c743",
   "metadata": {},
   "outputs": [],
   "source": [
    "df = pd.read_csv('/Users/abduroshyd/Downloads/titanic 2.csv')"
   ]
  },
  {
   "cell_type": "code",
   "execution_count": 5,
   "id": "67e3f43e",
   "metadata": {},
   "outputs": [
    {
     "name": "stderr",
     "output_type": "stream",
     "text": [
      "/var/folders/wh/dy7k6khj2rl3tts1n3g7lzn40000gn/T/ipykernel_91221/1981421102.py:6: FutureWarning: A value is trying to be set on a copy of a DataFrame or Series through chained assignment using an inplace method.\n",
      "The behavior will change in pandas 3.0. This inplace method will never work because the intermediate object on which we are setting values always behaves as a copy.\n",
      "\n",
      "For example, when doing 'df[col].method(value, inplace=True)', try using 'df.method({col: value}, inplace=True)' or df[col] = df[col].method(value) instead, to perform the operation inplace on the original object.\n",
      "\n",
      "\n",
      "  df[col].fillna(df[col].mean(),inplace=True)\n",
      "/var/folders/wh/dy7k6khj2rl3tts1n3g7lzn40000gn/T/ipykernel_91221/1981421102.py:4: FutureWarning: A value is trying to be set on a copy of a DataFrame or Series through chained assignment using an inplace method.\n",
      "The behavior will change in pandas 3.0. This inplace method will never work because the intermediate object on which we are setting values always behaves as a copy.\n",
      "\n",
      "For example, when doing 'df[col].method(value, inplace=True)', try using 'df.method({col: value}, inplace=True)' or df[col] = df[col].method(value) instead, to perform the operation inplace on the original object.\n",
      "\n",
      "\n",
      "  df[col].fillna(df[col].mode()[0],inplace=True)\n"
     ]
    }
   ],
   "source": [
    "for col in df.columns:\n",
    "    if df[col].isnull().sum()>0:\n",
    "        if df[col].dtype=='object':\n",
    "            df[col].fillna(df[col].mode()[0],inplace=True)\n",
    "        else:\n",
    "            df[col].fillna(df[col].mean(),inplace=True)\n",
    "\n"
   ]
  },
  {
   "cell_type": "code",
   "execution_count": 6,
   "id": "487fd5ce",
   "metadata": {},
   "outputs": [
    {
     "data": {
      "text/plain": [
       "PassengerId    0\n",
       "Survived       0\n",
       "Pclass         0\n",
       "Name           0\n",
       "Sex            0\n",
       "Age            0\n",
       "SibSp          0\n",
       "Parch          0\n",
       "Ticket         0\n",
       "Fare           0\n",
       "Cabin          0\n",
       "Embarked       0\n",
       "dtype: int64"
      ]
     },
     "execution_count": 6,
     "metadata": {},
     "output_type": "execute_result"
    }
   ],
   "source": [
    "df.isnull().sum()"
   ]
  },
  {
   "cell_type": "code",
   "execution_count": 7,
   "id": "a0987721",
   "metadata": {},
   "outputs": [],
   "source": [
    "df=pd.get_dummies(df,columns=['Sex'],dtype=int)"
   ]
  },
  {
   "cell_type": "code",
   "execution_count": 9,
   "id": "6a39472e",
   "metadata": {},
   "outputs": [],
   "source": [
    "from sklearn.preprocessing import LabelEncoder\n",
    "encoder=LabelEncoder()"
   ]
  },
  {
   "cell_type": "code",
   "execution_count": 10,
   "id": "b73b9e89",
   "metadata": {},
   "outputs": [],
   "source": [
    "df['Name']=encoder.fit_transform(df['Name'])"
   ]
  },
  {
   "cell_type": "code",
   "execution_count": 11,
   "id": "e5007d3a",
   "metadata": {},
   "outputs": [],
   "source": [
    "df['Embarked']=encoder.fit_transform(df['Embarked'])"
   ]
  },
  {
   "cell_type": "code",
   "execution_count": 13,
   "id": "15827bed",
   "metadata": {},
   "outputs": [
    {
     "data": {
      "text/plain": [
       "Cabin\n",
       "B96 B98        691\n",
       "C23 C25 C27      4\n",
       "G6               4\n",
       "F2               3\n",
       "C22 C26          3\n",
       "              ... \n",
       "C101             1\n",
       "B94              1\n",
       "B86              1\n",
       "B82 B84          1\n",
       "T                1\n",
       "Name: count, Length: 147, dtype: int64"
      ]
     },
     "execution_count": 13,
     "metadata": {},
     "output_type": "execute_result"
    }
   ],
   "source": [
    "df.value_counts('Cabin')"
   ]
  },
  {
   "cell_type": "code",
   "execution_count": 14,
   "id": "28497251",
   "metadata": {},
   "outputs": [],
   "source": [
    "df['Cabin']=encoder.fit_transform(df['Cabin'])"
   ]
  },
  {
   "cell_type": "markdown",
   "id": "e86a130c",
   "metadata": {},
   "source": []
  },
  {
   "cell_type": "code",
   "execution_count": 17,
   "id": "5edc3810",
   "metadata": {},
   "outputs": [
    {
     "name": "stdout",
     "output_type": "stream",
     "text": [
      "<class 'pandas.core.frame.DataFrame'>\n",
      "RangeIndex: 891 entries, 0 to 890\n",
      "Data columns (total 13 columns):\n",
      " #   Column       Non-Null Count  Dtype  \n",
      "---  ------       --------------  -----  \n",
      " 0   PassengerId  891 non-null    int64  \n",
      " 1   Survived     891 non-null    int64  \n",
      " 2   Pclass       891 non-null    int64  \n",
      " 3   Name         891 non-null    int64  \n",
      " 4   Age          891 non-null    float64\n",
      " 5   SibSp        891 non-null    int64  \n",
      " 6   Parch        891 non-null    int64  \n",
      " 7   Ticket       891 non-null    object \n",
      " 8   Fare         891 non-null    float64\n",
      " 9   Cabin        891 non-null    int64  \n",
      " 10  Embarked     891 non-null    int64  \n",
      " 11  Sex_female   891 non-null    int64  \n",
      " 12  Sex_male     891 non-null    int64  \n",
      "dtypes: float64(2), int64(10), object(1)\n",
      "memory usage: 90.6+ KB\n"
     ]
    }
   ],
   "source": [
    "df.info()"
   ]
  },
  {
   "cell_type": "code",
   "execution_count": 18,
   "id": "739c665f",
   "metadata": {},
   "outputs": [],
   "source": [
    "df['Ticket']=encoder.fit_transform(df['Ticket'])"
   ]
  },
  {
   "cell_type": "code",
   "execution_count": 19,
   "id": "62856a47",
   "metadata": {},
   "outputs": [
    {
     "name": "stdout",
     "output_type": "stream",
     "text": [
      "<class 'pandas.core.frame.DataFrame'>\n",
      "RangeIndex: 891 entries, 0 to 890\n",
      "Data columns (total 13 columns):\n",
      " #   Column       Non-Null Count  Dtype  \n",
      "---  ------       --------------  -----  \n",
      " 0   PassengerId  891 non-null    int64  \n",
      " 1   Survived     891 non-null    int64  \n",
      " 2   Pclass       891 non-null    int64  \n",
      " 3   Name         891 non-null    int64  \n",
      " 4   Age          891 non-null    float64\n",
      " 5   SibSp        891 non-null    int64  \n",
      " 6   Parch        891 non-null    int64  \n",
      " 7   Ticket       891 non-null    int64  \n",
      " 8   Fare         891 non-null    float64\n",
      " 9   Cabin        891 non-null    int64  \n",
      " 10  Embarked     891 non-null    int64  \n",
      " 11  Sex_female   891 non-null    int64  \n",
      " 12  Sex_male     891 non-null    int64  \n",
      "dtypes: float64(2), int64(11)\n",
      "memory usage: 90.6 KB\n"
     ]
    }
   ],
   "source": [
    "df.info()"
   ]
  },
  {
   "cell_type": "code",
   "execution_count": null,
   "id": "2d1896db",
   "metadata": {},
   "outputs": [],
   "source": []
  }
 ],
 "metadata": {
  "kernelspec": {
   "display_name": "Python 3",
   "language": "python",
   "name": "python3"
  },
  "language_info": {
   "codemirror_mode": {
    "name": "ipython",
    "version": 3
   },
   "file_extension": ".py",
   "mimetype": "text/x-python",
   "name": "python",
   "nbconvert_exporter": "python",
   "pygments_lexer": "ipython3",
   "version": "3.9.6"
  }
 },
 "nbformat": 4,
 "nbformat_minor": 5
}
