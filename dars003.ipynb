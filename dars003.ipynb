{
 "cells": [
  {
   "cell_type": "markdown",
   "id": "c139efc5",
   "metadata": {},
   "source": [
    "# conditions"
   ]
  },
  {
   "cell_type": "code",
   "execution_count": 8,
   "id": "3346fc67",
   "metadata": {},
   "outputs": [
    {
     "name": "stdout",
     "output_type": "stream",
     "text": [
      "enter\n"
     ]
    }
   ],
   "source": [
    "x=1234\n",
    "if x==1234:\n",
    "    print('enter')\n",
    "else:\n",
    "     print('retry')\n"
   ]
  },
  {
   "cell_type": "code",
   "execution_count": null,
   "id": "f174d189",
   "metadata": {},
   "outputs": [],
   "source": [
    "x=int(input('enter password:'))"
   ]
  },
  {
   "cell_type": "code",
   "execution_count": 11,
   "id": "22681fa8",
   "metadata": {},
   "outputs": [
    {
     "name": "stdout",
     "output_type": "stream",
     "text": [
      "approved\n"
     ]
    }
   ],
   "source": [
    "x=int(input('enter password;'))\n",
    "if x==1:\n",
    "    print('approved')"
   ]
  },
  {
   "cell_type": "code",
   "execution_count": 16,
   "id": "d26618cd",
   "metadata": {},
   "outputs": [
    {
     "name": "stdout",
     "output_type": "stream",
     "text": [
      "negative number\n"
     ]
    }
   ],
   "source": [
    "x=int(input('enter password;'))\n",
    "if x==1:\n",
    "    print('approved')\n",
    "elif x==-1:  \n",
    "    print('negative number')  \n",
    "else:\n",
    "    print('not approved')    "
   ]
  },
  {
   "cell_type": "code",
   "execution_count": 18,
   "id": "a7b5e477",
   "metadata": {},
   "outputs": [
    {
     "name": "stdout",
     "output_type": "stream",
     "text": [
      "no solution\n"
     ]
    }
   ],
   "source": [
    "x=int(input('enter password;'))\n",
    "if x==1:\n",
    "    print('approved')\n",
    "elif x==-1:  \n",
    "    print('negative number')  \n",
    "elif x==0:\n",
    "    print('no solution')\n",
    "else:\n",
    "    print('not approved')    "
   ]
  },
  {
   "cell_type": "code",
   "execution_count": null,
   "id": "487a7255",
   "metadata": {},
   "outputs": [],
   "source": []
  },
  {
   "cell_type": "code",
   "execution_count": null,
   "id": "9dd90702",
   "metadata": {},
   "outputs": [],
   "source": []
  }
 ],
 "metadata": {
  "kernelspec": {
   "display_name": ".venv",
   "language": "python",
   "name": "python3"
  },
  "language_info": {
   "codemirror_mode": {
    "name": "ipython",
    "version": 3
   },
   "file_extension": ".py",
   "mimetype": "text/x-python",
   "name": "python",
   "nbconvert_exporter": "python",
   "pygments_lexer": "ipython3",
   "version": "3.11.9"
  }
 },
 "nbformat": 4,
 "nbformat_minor": 5
}
