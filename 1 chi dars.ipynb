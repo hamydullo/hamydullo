{
 "cells": [
  {
   "cell_type": "markdown",
   "id": "a51c7cd4",
   "metadata": {},
   "source": [
    "integer"
   ]
  },
  {
   "cell_type": "markdown",
   "id": "6a802e16",
   "metadata": {},
   "source": [
    "integer"
   ]
  },
  {
   "cell_type": "markdown",
   "id": "9487b31f",
   "metadata": {},
   "source": [
    "integer"
   ]
  },
  {
   "cell_type": "markdown",
   "id": "b42b2b9c",
   "metadata": {},
   "source": [
    "#integer"
   ]
  },
  {
   "cell_type": "markdown",
   "id": "c230c0dc",
   "metadata": {},
   "source": [
    "#sprint"
   ]
  },
  {
   "cell_type": "markdown",
   "id": "785acb3e",
   "metadata": {},
   "source": [
    "# integer"
   ]
  },
  {
   "cell_type": "code",
   "execution_count": 1,
   "id": "2ce457c5",
   "metadata": {},
   "outputs": [
    {
     "name": "stdout",
     "output_type": "stream",
     "text": [
      "13\n",
      "0.3\n",
      "-7\n",
      "30\n"
     ]
    }
   ],
   "source": [
    "x=3\n",
    "y=10\n",
    "print(x+y)\n",
    "print(x/y)\n",
    "print(x-y)\n",
    "print(x*y)\n"
   ]
  },
  {
   "cell_type": "markdown",
   "id": "6f4360b1",
   "metadata": {},
   "source": [
    "# float"
   ]
  },
  {
   "cell_type": "markdown",
   "id": "91404572",
   "metadata": {},
   "source": []
  },
  {
   "cell_type": "code",
   "execution_count": null,
   "id": "bf72c737",
   "metadata": {},
   "outputs": [
    {
     "data": {
      "text/plain": [
       "float"
      ]
     },
     "execution_count": 3,
     "metadata": {},
     "output_type": "execute_result"
    }
   ],
   "source": [
    "x=3.0\n",
    "type(x)"
   ]
  },
  {
   "cell_type": "markdown",
   "id": "2e30980a",
   "metadata": {},
   "source": [
    "# str"
   ]
  },
  {
   "cell_type": "code",
   "execution_count": 7,
   "id": "34f8be13",
   "metadata": {},
   "outputs": [
    {
     "name": "stdout",
     "output_type": "stream",
     "text": [
      "125\n"
     ]
    }
   ],
   "source": [
    "x=int(input('sonni tanlang:'))\n",
    "print(pow(x,3))"
   ]
  },
  {
   "cell_type": "code",
   "execution_count": 2,
   "id": "7e5a3b84",
   "metadata": {},
   "outputs": [
    {
     "name": "stdout",
     "output_type": "stream",
     "text": [
      "9\n"
     ]
    }
   ],
   "source": [
    "print(3**2)"
   ]
  },
  {
   "cell_type": "code",
   "execution_count": 3,
   "id": "d34f7a33",
   "metadata": {},
   "outputs": [
    {
     "name": "stdout",
     "output_type": "stream",
     "text": [
      "100\n"
     ]
    }
   ],
   "source": [
    "print(10**2)"
   ]
  },
  {
   "cell_type": "code",
   "execution_count": 3,
   "id": "04ca11db",
   "metadata": {},
   "outputs": [
    {
     "data": {
      "text/plain": [
       "True"
      ]
     },
     "execution_count": 3,
     "metadata": {},
     "output_type": "execute_result"
    }
   ],
   "source": [
    "x=3\n",
    "y=3\n",
    "x==y"
   ]
  },
  {
   "cell_type": "code",
   "execution_count": 4,
   "id": "9c85ad50",
   "metadata": {},
   "outputs": [
    {
     "data": {
      "text/plain": [
       "True"
      ]
     },
     "execution_count": 4,
     "metadata": {},
     "output_type": "execute_result"
    }
   ],
   "source": [
    "x=3\n",
    "y=5\n",
    "y!=x"
   ]
  },
  {
   "cell_type": "code",
   "execution_count": 9,
   "id": "b10f20dc",
   "metadata": {},
   "outputs": [
    {
     "data": {
      "text/plain": [
       "str"
      ]
     },
     "execution_count": 9,
     "metadata": {},
     "output_type": "execute_result"
    }
   ],
   "source": [
    "s='sallom'\n",
    "type(s)\n"
   ]
  },
  {
   "cell_type": "code",
   "execution_count": 6,
   "id": "6734c638",
   "metadata": {},
   "outputs": [
    {
     "data": {
      "text/plain": [
       "'s'"
      ]
     },
     "execution_count": 6,
     "metadata": {},
     "output_type": "execute_result"
    }
   ],
   "source": [
    "s[0]"
   ]
  },
  {
   "cell_type": "code",
   "execution_count": 10,
   "id": "6e9ea3cc",
   "metadata": {},
   "outputs": [
    {
     "data": {
      "text/plain": [
       "'m'"
      ]
     },
     "execution_count": 10,
     "metadata": {},
     "output_type": "execute_result"
    }
   ],
   "source": [
    "s[5]"
   ]
  },
  {
   "cell_type": "code",
   "execution_count": 11,
   "id": "b3486e6e",
   "metadata": {},
   "outputs": [
    {
     "data": {
      "text/plain": [
       "True"
      ]
     },
     "execution_count": 11,
     "metadata": {},
     "output_type": "execute_result"
    }
   ],
   "source": [
    "s[3]==s[2]"
   ]
  },
  {
   "cell_type": "code",
   "execution_count": 13,
   "id": "9cce2071",
   "metadata": {},
   "outputs": [
    {
     "data": {
      "text/plain": [
       "6"
      ]
     },
     "execution_count": 13,
     "metadata": {},
     "output_type": "execute_result"
    }
   ],
   "source": [
    "len(s)"
   ]
  },
  {
   "cell_type": "code",
   "execution_count": 15,
   "id": "c9449b13",
   "metadata": {},
   "outputs": [
    {
     "data": {
      "text/plain": [
       "'m'"
      ]
     },
     "execution_count": 15,
     "metadata": {},
     "output_type": "execute_result"
    }
   ],
   "source": [
    "s[-1]"
   ]
  },
  {
   "cell_type": "code",
   "execution_count": 16,
   "id": "5c9b4ac8",
   "metadata": {},
   "outputs": [
    {
     "data": {
      "text/plain": [
       "'l'"
      ]
     },
     "execution_count": 16,
     "metadata": {},
     "output_type": "execute_result"
    }
   ],
   "source": [
    "s[-4]"
   ]
  },
  {
   "cell_type": "code",
   "execution_count": 17,
   "id": "36c70ba1",
   "metadata": {},
   "outputs": [
    {
     "data": {
      "text/plain": [
       "'sa'"
      ]
     },
     "execution_count": 17,
     "metadata": {},
     "output_type": "execute_result"
    }
   ],
   "source": [
    "s[0]+s[1]"
   ]
  },
  {
   "cell_type": "code",
   "execution_count": 18,
   "id": "37735054",
   "metadata": {},
   "outputs": [
    {
     "data": {
      "text/plain": [
       "'sal'"
      ]
     },
     "execution_count": 18,
     "metadata": {},
     "output_type": "execute_result"
    }
   ],
   "source": [
    "s[0]+s[1]+s[2]"
   ]
  },
  {
   "cell_type": "code",
   "execution_count": null,
   "id": "274d4779",
   "metadata": {},
   "outputs": [],
   "source": []
  }
 ],
 "metadata": {
  "kernelspec": {
   "display_name": ".venv",
   "language": "python",
   "name": "python3"
  },
  "language_info": {
   "codemirror_mode": {
    "name": "ipython",
    "version": 3
   },
   "file_extension": ".py",
   "mimetype": "text/x-python",
   "name": "python",
   "nbconvert_exporter": "python",
   "pygments_lexer": "ipython3",
   "version": "3.11.9"
  }
 },
 "nbformat": 4,
 "nbformat_minor": 5
}
