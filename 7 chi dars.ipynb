{
 "cells": [
  {
   "cell_type": "code",
   "execution_count": 1,
   "id": "78ec2afb",
   "metadata": {},
   "outputs": [],
   "source": [
    "import pandas as pd\n"
   ]
  },
  {
   "cell_type": "code",
   "execution_count": 42,
   "id": "75cfdeff",
   "metadata": {},
   "outputs": [],
   "source": [
    "df=pd.read_csv('IMDB_Movies_Dataset (2).csv')"
   ]
  },
  {
   "cell_type": "code",
   "execution_count": 43,
   "id": "6b55172d",
   "metadata": {},
   "outputs": [
    {
     "name": "stdout",
     "output_type": "stream",
     "text": [
      "<class 'pandas.core.frame.DataFrame'>\n",
      "RangeIndex: 4989 entries, 0 to 4988\n",
      "Data columns (total 13 columns):\n",
      " #   Column             Non-Null Count  Dtype  \n",
      "---  ------             --------------  -----  \n",
      " 0   Unnamed: 0         4989 non-null   int64  \n",
      " 1   Title              4989 non-null   object \n",
      " 2   Average Rating     4989 non-null   float64\n",
      " 3   Director           4989 non-null   object \n",
      " 4   Writer             4988 non-null   object \n",
      " 5   Metascore          3055 non-null   float64\n",
      " 6   Cast               4982 non-null   object \n",
      " 7   Release Date       4989 non-null   object \n",
      " 8   Country of Origin  4986 non-null   object \n",
      " 9   Languages          4968 non-null   object \n",
      " 10  Budget             2651 non-null   object \n",
      " 11  Worldwide Gross    3895 non-null   object \n",
      " 12  Runtime            4989 non-null   object \n",
      "dtypes: float64(2), int64(1), object(10)\n",
      "memory usage: 506.8+ KB\n"
     ]
    }
   ],
   "source": [
    "df.info()"
   ]
  },
  {
   "cell_type": "code",
   "execution_count": 44,
   "id": "83ad4452",
   "metadata": {},
   "outputs": [
    {
     "data": {
      "text/plain": [
       "Unnamed: 0              0\n",
       "Title                   0\n",
       "Average Rating          0\n",
       "Director                0\n",
       "Writer                  1\n",
       "Metascore            1934\n",
       "Cast                    7\n",
       "Release Date            0\n",
       "Country of Origin       3\n",
       "Languages              21\n",
       "Budget               2338\n",
       "Worldwide Gross      1094\n",
       "Runtime                 0\n",
       "dtype: int64"
      ]
     },
     "execution_count": 44,
     "metadata": {},
     "output_type": "execute_result"
    }
   ],
   "source": [
    "df.isnull().sum()"
   ]
  },
  {
   "cell_type": "code",
   "execution_count": 45,
   "id": "97029eb4",
   "metadata": {},
   "outputs": [],
   "source": [
    "df=df.dropna(subset='Country of Origin',axis=0)"
   ]
  },
  {
   "cell_type": "code",
   "execution_count": 46,
   "id": "2b636bb9",
   "metadata": {},
   "outputs": [
    {
     "name": "stderr",
     "output_type": "stream",
     "text": [
      "C:\\Users\\Shahrizod\\AppData\\Local\\Temp\\ipykernel_11844\\3749273199.py:1: FutureWarning: A value is trying to be set on a copy of a DataFrame or Series through chained assignment using an inplace method.\n",
      "The behavior will change in pandas 3.0. This inplace method will never work because the intermediate object on which we are setting values always behaves as a copy.\n",
      "\n",
      "For example, when doing 'df[col].method(value, inplace=True)', try using 'df.method({col: value}, inplace=True)' or df[col] = df[col].method(value) instead, to perform the operation inplace on the original object.\n",
      "\n",
      "\n",
      "  df['Worldwide Gross'].fillna(df['Worldwide Gross'].mode()[0],inplace=True)\n"
     ]
    }
   ],
   "source": [
    "df['Worldwide Gross'].fillna(df['Worldwide Gross'].mode()[0],inplace=True)"
   ]
  },
  {
   "cell_type": "code",
   "execution_count": 47,
   "id": "5bade162",
   "metadata": {},
   "outputs": [
    {
     "name": "stdout",
     "output_type": "stream",
     "text": [
      "<class 'pandas.core.frame.DataFrame'>\n",
      "Index: 4986 entries, 0 to 4988\n",
      "Data columns (total 13 columns):\n",
      " #   Column             Non-Null Count  Dtype  \n",
      "---  ------             --------------  -----  \n",
      " 0   Unnamed: 0         4986 non-null   int64  \n",
      " 1   Title              4986 non-null   object \n",
      " 2   Average Rating     4986 non-null   float64\n",
      " 3   Director           4986 non-null   object \n",
      " 4   Writer             4985 non-null   object \n",
      " 5   Metascore          3055 non-null   float64\n",
      " 6   Cast               4979 non-null   object \n",
      " 7   Release Date       4986 non-null   object \n",
      " 8   Country of Origin  4986 non-null   object \n",
      " 9   Languages          4968 non-null   object \n",
      " 10  Budget             2651 non-null   object \n",
      " 11  Worldwide Gross    4986 non-null   object \n",
      " 12  Runtime            4986 non-null   object \n",
      "dtypes: float64(2), int64(1), object(10)\n",
      "memory usage: 545.3+ KB\n"
     ]
    }
   ],
   "source": [
    "df.info()"
   ]
  },
  {
   "cell_type": "code",
   "execution_count": 49,
   "id": "91957967",
   "metadata": {},
   "outputs": [],
   "source": [
    "df['Budget'].fillna(df['Budget'].mode(),inplace=True)"
   ]
  },
  {
   "cell_type": "code",
   "execution_count": 50,
   "id": "071b9468",
   "metadata": {},
   "outputs": [
    {
     "data": {
      "text/plain": [
       "0        82.0\n",
       "1         NaN\n",
       "2       100.0\n",
       "3         NaN\n",
       "4         NaN\n",
       "        ...  \n",
       "4984      NaN\n",
       "4985      NaN\n",
       "4986      NaN\n",
       "4987      NaN\n",
       "4988      NaN\n",
       "Name: Metascore, Length: 4986, dtype: float64"
      ]
     },
     "execution_count": 50,
     "metadata": {},
     "output_type": "execute_result"
    }
   ],
   "source": [
    "df['Metascore']"
   ]
  },
  {
   "cell_type": "code",
   "execution_count": 63,
   "id": "c12abe5e",
   "metadata": {},
   "outputs": [],
   "source": [
    "df['Budget'].fillna(df['Budget'].mode()[0],inplace=True)"
   ]
  },
  {
   "cell_type": "code",
   "execution_count": 56,
   "id": "56f5b075",
   "metadata": {},
   "outputs": [],
   "source": [
    "df=df.dropna(subset='Cast',axis=0)"
   ]
  },
  {
   "cell_type": "code",
   "execution_count": 52,
   "id": "30407e45",
   "metadata": {},
   "outputs": [],
   "source": [
    "df['Metascore'].fillna(df['Metascore'].median(), inplace=True) "
   ]
  },
  {
   "cell_type": "code",
   "execution_count": 32,
   "id": "01d415b8",
   "metadata": {},
   "outputs": [
    {
     "name": "stdout",
     "output_type": "stream",
     "text": [
      "<class 'pandas.core.frame.DataFrame'>\n",
      "Index: 889 entries, 0 to 890\n",
      "Data columns (total 12 columns):\n",
      " #   Column       Non-Null Count  Dtype  \n",
      "---  ------       --------------  -----  \n",
      " 0   PassengerId  889 non-null    int64  \n",
      " 1   Survived     889 non-null    int64  \n",
      " 2   Pclass       889 non-null    int64  \n",
      " 3   Name         889 non-null    object \n",
      " 4   Gender       889 non-null    object \n",
      " 5   Age          889 non-null    float64\n",
      " 6   SibSp        889 non-null    int64  \n",
      " 7   Parch        889 non-null    int64  \n",
      " 8   Ticket       889 non-null    object \n",
      " 9   Fare         889 non-null    float64\n",
      " 10  Cabin        889 non-null    object \n",
      " 11  Embarked     889 non-null    object \n",
      "dtypes: float64(2), int64(5), object(5)\n",
      "memory usage: 90.3+ KB\n"
     ]
    }
   ],
   "source": [
    "df.info()"
   ]
  },
  {
   "cell_type": "code",
   "execution_count": 57,
   "id": "20a5b3dc",
   "metadata": {},
   "outputs": [],
   "source": [
    "df=df.dropna(subset='Writer',axis=0)"
   ]
  },
  {
   "cell_type": "code",
   "execution_count": 59,
   "id": "04555213",
   "metadata": {},
   "outputs": [],
   "source": [
    "df['Languages'].fillna(df['Languages'].mode()[0],inplace=True)"
   ]
  },
  {
   "cell_type": "code",
   "execution_count": 64,
   "id": "6c293222",
   "metadata": {},
   "outputs": [
    {
     "data": {
      "text/plain": [
       "Unnamed: 0           0\n",
       "Title                0\n",
       "Average Rating       0\n",
       "Director             0\n",
       "Writer               0\n",
       "Metascore            0\n",
       "Cast                 0\n",
       "Release Date         0\n",
       "Country of Origin    0\n",
       "Languages            0\n",
       "Budget               0\n",
       "Worldwide Gross      0\n",
       "Runtime              0\n",
       "dtype: int64"
      ]
     },
     "execution_count": 64,
     "metadata": {},
     "output_type": "execute_result"
    }
   ],
   "source": [
    "df.isnull().sum()"
   ]
  },
  {
   "cell_type": "code",
   "execution_count": 65,
   "id": "19f98ade",
   "metadata": {},
   "outputs": [
    {
     "data": {
      "text/plain": [
       "0        29,332,133\n",
       "1         3,513,659\n",
       "2       250,342,198\n",
       "3               509\n",
       "4               509\n",
       "           ...     \n",
       "4984        290,754\n",
       "4985            509\n",
       "4986     29,893,636\n",
       "4987     17,871,370\n",
       "4988        550,031\n",
       "Name: Worldwide Gross, Length: 4979, dtype: object"
      ]
     },
     "execution_count": 65,
     "metadata": {},
     "output_type": "execute_result"
    }
   ],
   "source": [
    "df['Worldwide Gross'].str.lstrip('$')"
   ]
  },
  {
   "cell_type": "code",
   "execution_count": 67,
   "id": "71691591",
   "metadata": {},
   "outputs": [],
   "source": [
    "df['Worldwide Gross']=df['Worldwide Gross'].str.replace(r'[^\\d.]','',regex=True).astype(float)"
   ]
  },
  {
   "cell_type": "code",
   "execution_count": null,
   "id": "2fb3401b",
   "metadata": {},
   "outputs": [],
   "source": [
    "r'[^/d.]','',regex=True).astype(float)\n"
   ]
  },
  {
   "cell_type": "code",
   "execution_count": null,
   "id": "00f7e569",
   "metadata": {},
   "outputs": [],
   "source": [
    "str.replece(r'[^/d.]','',).astype(float)"
   ]
  },
  {
   "cell_type": "code",
   "execution_count": 68,
   "id": "dce17631",
   "metadata": {},
   "outputs": [
    {
     "name": "stdout",
     "output_type": "stream",
     "text": [
      "<class 'pandas.core.frame.DataFrame'>\n",
      "Index: 4979 entries, 0 to 4988\n",
      "Data columns (total 13 columns):\n",
      " #   Column             Non-Null Count  Dtype  \n",
      "---  ------             --------------  -----  \n",
      " 0   Unnamed: 0         4979 non-null   int64  \n",
      " 1   Title              4979 non-null   object \n",
      " 2   Average Rating     4979 non-null   float64\n",
      " 3   Director           4979 non-null   object \n",
      " 4   Writer             4979 non-null   object \n",
      " 5   Metascore          4979 non-null   float64\n",
      " 6   Cast               4979 non-null   object \n",
      " 7   Release Date       4979 non-null   object \n",
      " 8   Country of Origin  4979 non-null   object \n",
      " 9   Languages          4979 non-null   object \n",
      " 10  Budget             4979 non-null   object \n",
      " 11  Worldwide Gross    4979 non-null   float64\n",
      " 12  Runtime            4979 non-null   object \n",
      "dtypes: float64(3), int64(1), object(9)\n",
      "memory usage: 544.6+ KB\n"
     ]
    }
   ],
   "source": [
    "df.info()"
   ]
  },
  {
   "cell_type": "code",
   "execution_count": 69,
   "id": "9e41ea84",
   "metadata": {},
   "outputs": [],
   "source": [
    "duplicated_rows=df.duplicated()"
   ]
  },
  {
   "cell_type": "code",
   "execution_count": 73,
   "id": "46e1ac84",
   "metadata": {},
   "outputs": [
    {
     "data": {
      "text/plain": [
       "np.int64(0)"
      ]
     },
     "execution_count": 73,
     "metadata": {},
     "output_type": "execute_result"
    }
   ],
   "source": [
    "duplicated_rows.sum()"
   ]
  },
  {
   "cell_type": "code",
   "execution_count": 74,
   "id": "5fa86170",
   "metadata": {},
   "outputs": [
    {
     "data": {
      "text/plain": [
       "0       False\n",
       "1       False\n",
       "2       False\n",
       "3       False\n",
       "4       False\n",
       "        ...  \n",
       "4984    False\n",
       "4985    False\n",
       "4986    False\n",
       "4987    False\n",
       "4988    False\n",
       "Length: 4979, dtype: bool"
      ]
     },
     "execution_count": 74,
     "metadata": {},
     "output_type": "execute_result"
    }
   ],
   "source": [
    "duplicated_rows"
   ]
  },
  {
   "cell_type": "code",
   "execution_count": 75,
   "id": "4764ced4",
   "metadata": {},
   "outputs": [],
   "source": [
    "df.drop_duplicates(inplace=True)"
   ]
  },
  {
   "cell_type": "code",
   "execution_count": 76,
   "id": "6a3613e7",
   "metadata": {},
   "outputs": [],
   "source": [
    "duplicated_col=df.columns[df.T.duplicated()]"
   ]
  },
  {
   "cell_type": "code",
   "execution_count": 77,
   "id": "adb931df",
   "metadata": {},
   "outputs": [],
   "source": [
    "df.drop(columns=duplicated_col, inplace=True)"
   ]
  },
  {
   "cell_type": "code",
   "execution_count": 78,
   "id": "3fbf36a6",
   "metadata": {},
   "outputs": [
    {
     "name": "stdout",
     "output_type": "stream",
     "text": [
      "<class 'pandas.core.frame.DataFrame'>\n",
      "Index: 4979 entries, 0 to 4988\n",
      "Data columns (total 13 columns):\n",
      " #   Column             Non-Null Count  Dtype  \n",
      "---  ------             --------------  -----  \n",
      " 0   Unnamed: 0         4979 non-null   int64  \n",
      " 1   Title              4979 non-null   object \n",
      " 2   Average Rating     4979 non-null   float64\n",
      " 3   Director           4979 non-null   object \n",
      " 4   Writer             4979 non-null   object \n",
      " 5   Metascore          4979 non-null   float64\n",
      " 6   Cast               4979 non-null   object \n",
      " 7   Release Date       4979 non-null   object \n",
      " 8   Country of Origin  4979 non-null   object \n",
      " 9   Languages          4979 non-null   object \n",
      " 10  Budget             4979 non-null   object \n",
      " 11  Worldwide Gross    4979 non-null   float64\n",
      " 12  Runtime            4979 non-null   object \n",
      "dtypes: float64(3), int64(1), object(9)\n",
      "memory usage: 673.6+ KB\n"
     ]
    }
   ],
   "source": [
    "df.info()"
   ]
  },
  {
   "cell_type": "code",
   "execution_count": null,
   "id": "7d217a06",
   "metadata": {},
   "outputs": [],
   "source": []
  }
 ],
 "metadata": {
  "kernelspec": {
   "display_name": "venv",
   "language": "python",
   "name": "python3"
  },
  "language_info": {
   "codemirror_mode": {
    "name": "ipython",
    "version": 3
   },
   "file_extension": ".py",
   "mimetype": "text/x-python",
   "name": "python",
   "nbconvert_exporter": "python",
   "pygments_lexer": "ipython3",
   "version": "3.11.9"
  }
 },
 "nbformat": 4,
 "nbformat_minor": 5
}
